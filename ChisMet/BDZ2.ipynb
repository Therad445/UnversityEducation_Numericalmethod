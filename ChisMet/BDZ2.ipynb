{
 "cells": [
  {
   "cell_type": "code",
   "execution_count": 1,
   "id": "5b8a6cf7-ffb8-49a9-b0d8-b4a353eae509",
   "metadata": {},
   "outputs": [
    {
     "name": "stdout",
     "output_type": "stream",
     "text": [
      "Оптимальное значение шага h: 9.313225746154786e-11\n"
     ]
    }
   ],
   "source": [
    "import math\n",
    "\n",
    "def numerical_differentiation(y, h):\n",
    "    n = len(y)\n",
    "    y_2_n = [0] * n\n",
    "\n",
    "    for i in range(n):\n",
    "        if i == 0:\n",
    "            y_2_n[i] = 1 / h**2 * (y[i] - 2 * y[i+1] + y[i+2])\n",
    "        elif i == n-1:\n",
    "            y_2_n[i] = 1 / h**2 * (y[i-2] - 2 * y[i-1] + y[i])\n",
    "        else:\n",
    "            y_2_n[i] = 1 / h**2 * (y[i-1] - 2 * y[i] + y[i+1])\n",
    "    \n",
    "    return y_2_n\n",
    "\n",
    "def calculate_error(y_true, y_approx):\n",
    "    n = len(y_true)\n",
    "    error = 0\n",
    "\n",
    "    for i in range(n):\n",
    "        error += (y_true[i] - y_approx[i])**2\n",
    "    \n",
    "    error = math.sqrt(error / n)\n",
    "    return error\n",
    "\n",
    "def find_optimal_step_size(y, y_true, delta):\n",
    "    h = 0.1  # начальное приближение для шага\n",
    "    min_h = 1e-10  # минимальное значение шага\n",
    "    max_h = 1  # максимальное значение шага\n",
    "\n",
    "    while True:\n",
    "        y_2_n = numerical_differentiation(y, h)\n",
    "        error = calculate_error(y_true, y_2_n)\n",
    "\n",
    "        if error < delta or h <= min_h:\n",
    "            break\n",
    "        \n",
    "        h /= 2  # уменьшаем шаг вдвое\n",
    "    \n",
    "    return h\n",
    "\n",
    "# Таблично заданные значения функции y(x)\n",
    "y = [math.log(x) for x in [1, 1.5, 2, 2.5, 3]]\n",
    "\n",
    "# Истинные значения производной функции y(x)\n",
    "y_true = [1/x for x in [1, 1.5, 2, 2.5, 3]]\n",
    "\n",
    "# Погрешность\n",
    "delta = 1e-3\n",
    "\n",
    "# Находим оптимальное значение шага\n",
    "optimal_step_size = find_optimal_step_size(y, y_true, delta)\n",
    "print(\"Оптимальное значение шага h:\", optimal_step_size)\n"
   ]
  },
  {
   "cell_type": "code",
   "execution_count": 2,
   "id": "e151cd48-ba83-458f-a7dd-f856baeda967",
   "metadata": {},
   "outputs": [
    {
     "name": "stdout",
     "output_type": "stream",
     "text": [
      "Приближенное значение интеграла с шагом h1: 5.641665823915724\n",
      "Приближенное значение интеграла с шагом h2: 5.542979857776487\n",
      "Погрешность: 4.542979857776487\n"
     ]
    }
   ],
   "source": [
    "import math\n",
    "\n",
    "def f(x):\n",
    "    return math.sin(x) * math.sinh(x)\n",
    "\n",
    "def compute_integral_approximation(h, n):\n",
    "    nodes = [1 + i * h for i in range(n+1)]\n",
    "    approximation = h * sum([f(x) for x in nodes])\n",
    "    return approximation\n",
    "\n",
    "h1 = 2 / 6\n",
    "n1 = int(2 / h1)\n",
    "\n",
    "h2 = 2 / 10\n",
    "n2 = int(2 / h2)\n",
    "\n",
    "approximation1 = compute_integral_approximation(h1, n1)\n",
    "approximation2 = compute_integral_approximation(h2, n2)\n",
    "\n",
    "true_value = 1.0  # Истинное значение интеграла\n",
    "\n",
    "error = abs(approximation2 - true_value)  # Погрешность\n",
    "\n",
    "print(\"Приближенное значение интеграла с шагом h1:\", approximation1)\n",
    "print(\"Приближенное значение интеграла с шагом h2:\", approximation2)\n",
    "print(\"Погрешность:\", error)\n"
   ]
  },
  {
   "cell_type": "code",
   "execution_count": 8,
   "id": "5cbd9525-2511-4a5f-83f4-dcb50e42d411",
   "metadata": {},
   "outputs": [
    {
     "ename": "OverflowError",
     "evalue": "math range error",
     "output_type": "error",
     "traceback": [
      "\u001b[1;31m---------------------------------------------------------------------------\u001b[0m",
      "\u001b[1;31mOverflowError\u001b[0m                             Traceback (most recent call last)",
      "\u001b[1;32m~\\AppData\\Local\\Temp\\ipykernel_6976\\2691461529.py\u001b[0m in \u001b[0;36m<module>\u001b[1;34m\u001b[0m\n\u001b[0;32m     19\u001b[0m \u001b[1;33m\u001b[0m\u001b[0m\n\u001b[0;32m     20\u001b[0m \u001b[1;31m# Вычисление интеграла на конечном интервале\u001b[0m\u001b[1;33m\u001b[0m\u001b[1;33m\u001b[0m\u001b[0m\n\u001b[1;32m---> 21\u001b[1;33m \u001b[0mfinite_integral_value\u001b[0m \u001b[1;33m=\u001b[0m \u001b[0mfinite_integral\u001b[0m\u001b[1;33m(\u001b[0m\u001b[1;36m6\u001b[0m\u001b[1;33m,\u001b[0m \u001b[0mupper_limit\u001b[0m\u001b[1;33m)\u001b[0m\u001b[1;33m\u001b[0m\u001b[1;33m\u001b[0m\u001b[0m\n\u001b[0m\u001b[0;32m     22\u001b[0m \u001b[1;33m\u001b[0m\u001b[0m\n\u001b[0;32m     23\u001b[0m \u001b[1;31m# Вычисление коррекции для бесконечного интервала\u001b[0m\u001b[1;33m\u001b[0m\u001b[1;33m\u001b[0m\u001b[0m\n",
      "\u001b[1;32m~\\AppData\\Local\\Temp\\ipykernel_6976\\2691461529.py\u001b[0m in \u001b[0;36mfinite_integral\u001b[1;34m(a, b)\u001b[0m\n\u001b[0;32m      7\u001b[0m \u001b[1;31m# Определение функции, интегрирующей на конечном интервале\u001b[0m\u001b[1;33m\u001b[0m\u001b[1;33m\u001b[0m\u001b[0m\n\u001b[0;32m      8\u001b[0m \u001b[1;32mdef\u001b[0m \u001b[0mfinite_integral\u001b[0m\u001b[1;33m(\u001b[0m\u001b[0ma\u001b[0m\u001b[1;33m,\u001b[0m \u001b[0mb\u001b[0m\u001b[1;33m)\u001b[0m\u001b[1;33m:\u001b[0m\u001b[1;33m\u001b[0m\u001b[1;33m\u001b[0m\u001b[0m\n\u001b[1;32m----> 9\u001b[1;33m     \u001b[0mintegral\u001b[0m\u001b[1;33m,\u001b[0m \u001b[0merror\u001b[0m \u001b[1;33m=\u001b[0m \u001b[0mquad\u001b[0m\u001b[1;33m(\u001b[0m\u001b[0mintegrand\u001b[0m\u001b[1;33m,\u001b[0m \u001b[0ma\u001b[0m\u001b[1;33m,\u001b[0m \u001b[0mb\u001b[0m\u001b[1;33m)\u001b[0m\u001b[1;33m\u001b[0m\u001b[1;33m\u001b[0m\u001b[0m\n\u001b[0m\u001b[0;32m     10\u001b[0m     \u001b[1;32mreturn\u001b[0m \u001b[0mintegral\u001b[0m\u001b[1;33m\u001b[0m\u001b[1;33m\u001b[0m\u001b[0m\n\u001b[0;32m     11\u001b[0m \u001b[1;33m\u001b[0m\u001b[0m\n",
      "\u001b[1;32m~\\anaconda3\\lib\\site-packages\\scipy\\integrate\\_quadpack_py.py\u001b[0m in \u001b[0;36mquad\u001b[1;34m(func, a, b, args, full_output, epsabs, epsrel, limit, points, weight, wvar, wopts, maxp1, limlst)\u001b[0m\n\u001b[0;32m    409\u001b[0m \u001b[1;33m\u001b[0m\u001b[0m\n\u001b[0;32m    410\u001b[0m     \u001b[1;32mif\u001b[0m \u001b[0mweight\u001b[0m \u001b[1;32mis\u001b[0m \u001b[1;32mNone\u001b[0m\u001b[1;33m:\u001b[0m\u001b[1;33m\u001b[0m\u001b[1;33m\u001b[0m\u001b[0m\n\u001b[1;32m--> 411\u001b[1;33m         retval = _quad(func, a, b, args, full_output, epsabs, epsrel, limit,\n\u001b[0m\u001b[0;32m    412\u001b[0m                        points)\n\u001b[0;32m    413\u001b[0m     \u001b[1;32melse\u001b[0m\u001b[1;33m:\u001b[0m\u001b[1;33m\u001b[0m\u001b[1;33m\u001b[0m\u001b[0m\n",
      "\u001b[1;32m~\\anaconda3\\lib\\site-packages\\scipy\\integrate\\_quadpack_py.py\u001b[0m in \u001b[0;36m_quad\u001b[1;34m(func, a, b, args, full_output, epsabs, epsrel, limit, points)\u001b[0m\n\u001b[0;32m    521\u001b[0m     \u001b[1;32mif\u001b[0m \u001b[0mpoints\u001b[0m \u001b[1;32mis\u001b[0m \u001b[1;32mNone\u001b[0m\u001b[1;33m:\u001b[0m\u001b[1;33m\u001b[0m\u001b[1;33m\u001b[0m\u001b[0m\n\u001b[0;32m    522\u001b[0m         \u001b[1;32mif\u001b[0m \u001b[0minfbounds\u001b[0m \u001b[1;33m==\u001b[0m \u001b[1;36m0\u001b[0m\u001b[1;33m:\u001b[0m\u001b[1;33m\u001b[0m\u001b[1;33m\u001b[0m\u001b[0m\n\u001b[1;32m--> 523\u001b[1;33m             \u001b[1;32mreturn\u001b[0m \u001b[0m_quadpack\u001b[0m\u001b[1;33m.\u001b[0m\u001b[0m_qagse\u001b[0m\u001b[1;33m(\u001b[0m\u001b[0mfunc\u001b[0m\u001b[1;33m,\u001b[0m\u001b[0ma\u001b[0m\u001b[1;33m,\u001b[0m\u001b[0mb\u001b[0m\u001b[1;33m,\u001b[0m\u001b[0margs\u001b[0m\u001b[1;33m,\u001b[0m\u001b[0mfull_output\u001b[0m\u001b[1;33m,\u001b[0m\u001b[0mepsabs\u001b[0m\u001b[1;33m,\u001b[0m\u001b[0mepsrel\u001b[0m\u001b[1;33m,\u001b[0m\u001b[0mlimit\u001b[0m\u001b[1;33m)\u001b[0m\u001b[1;33m\u001b[0m\u001b[1;33m\u001b[0m\u001b[0m\n\u001b[0m\u001b[0;32m    524\u001b[0m         \u001b[1;32melse\u001b[0m\u001b[1;33m:\u001b[0m\u001b[1;33m\u001b[0m\u001b[1;33m\u001b[0m\u001b[0m\n\u001b[0;32m    525\u001b[0m             \u001b[1;32mreturn\u001b[0m \u001b[0m_quadpack\u001b[0m\u001b[1;33m.\u001b[0m\u001b[0m_qagie\u001b[0m\u001b[1;33m(\u001b[0m\u001b[0mfunc\u001b[0m\u001b[1;33m,\u001b[0m\u001b[0mbound\u001b[0m\u001b[1;33m,\u001b[0m\u001b[0minfbounds\u001b[0m\u001b[1;33m,\u001b[0m\u001b[0margs\u001b[0m\u001b[1;33m,\u001b[0m\u001b[0mfull_output\u001b[0m\u001b[1;33m,\u001b[0m\u001b[0mepsabs\u001b[0m\u001b[1;33m,\u001b[0m\u001b[0mepsrel\u001b[0m\u001b[1;33m,\u001b[0m\u001b[0mlimit\u001b[0m\u001b[1;33m)\u001b[0m\u001b[1;33m\u001b[0m\u001b[1;33m\u001b[0m\u001b[0m\n",
      "\u001b[1;32m~\\AppData\\Local\\Temp\\ipykernel_6976\\2691461529.py\u001b[0m in \u001b[0;36mintegrand\u001b[1;34m(x)\u001b[0m\n\u001b[0;32m      3\u001b[0m \u001b[1;33m\u001b[0m\u001b[0m\n\u001b[0;32m      4\u001b[0m \u001b[1;32mdef\u001b[0m \u001b[0mintegrand\u001b[0m\u001b[1;33m(\u001b[0m\u001b[0mx\u001b[0m\u001b[1;33m)\u001b[0m\u001b[1;33m:\u001b[0m\u001b[1;33m\u001b[0m\u001b[1;33m\u001b[0m\u001b[0m\n\u001b[1;32m----> 5\u001b[1;33m     \u001b[1;32mreturn\u001b[0m \u001b[0mmath\u001b[0m\u001b[1;33m.\u001b[0m\u001b[0matan\u001b[0m\u001b[1;33m(\u001b[0m\u001b[0mx\u001b[0m\u001b[1;33m)\u001b[0m \u001b[1;33m/\u001b[0m \u001b[0mmath\u001b[0m\u001b[1;33m.\u001b[0m\u001b[0mexp\u001b[0m\u001b[1;33m(\u001b[0m\u001b[0mx\u001b[0m\u001b[1;33m)\u001b[0m\u001b[1;33m\u001b[0m\u001b[1;33m\u001b[0m\u001b[0m\n\u001b[0m\u001b[0;32m      6\u001b[0m \u001b[1;33m\u001b[0m\u001b[0m\n\u001b[0;32m      7\u001b[0m \u001b[1;31m# Определение функции, интегрирующей на конечном интервале\u001b[0m\u001b[1;33m\u001b[0m\u001b[1;33m\u001b[0m\u001b[0m\n",
      "\u001b[1;31mOverflowError\u001b[0m: math range error"
     ]
    }
   ],
   "source": [
    "import math\n",
    "from scipy.integrate import quad\n",
    "\n",
    "def integrand(x):\n",
    "    return math.atan(x) / math.exp(x)\n",
    "\n",
    "# Определение функции, интегрирующей на конечном интервале\n",
    "def finite_integral(a, b):\n",
    "    integral, error = quad(integrand, a, b)\n",
    "    return integral\n",
    "\n",
    "# Определение функции, вычисляющей коррекцию для бесконечного интервала\n",
    "def infinite_correction(a):\n",
    "    correction = math.atan(a) / math.exp(a)\n",
    "    return correction\n",
    "\n",
    "# Определение верхнего предела для конечного интеграла\n",
    "upper_limit = 1000\n",
    "\n",
    "# Вычисление интеграла на конечном интервале\n",
    "finite_integral_value = finite_integral(6, upper_limit)\n",
    "\n",
    "# Вычисление коррекции для бесконечного интервала\n",
    "infinite_correction_value = infinite_correction(upper_limit)\n",
    "\n",
    "# Суммирование значения конечного интеграла и коррекции для получения приближенного значения несобственного интеграла\n",
    "improper_integral_approximation = finite_integral_value + infinite_correction_value\n",
    "\n",
    "print(\"Приближенное значение несобственного интеграла:\", improper_integral_approximation)\n"
   ]
  },
  {
   "cell_type": "code",
   "execution_count": 9,
   "id": "43b9029c-4d7d-4052-9392-f13b04841ebc",
   "metadata": {},
   "outputs": [
    {
     "name": "stdout",
     "output_type": "stream",
     "text": [
      "Приближенное значение несобственного интеграла: -0.003577206077977232\n"
     ]
    }
   ],
   "source": [
    "import math\n",
    "from scipy.integrate import quad\n",
    "\n",
    "def integrand(x):\n",
    "    return -math.atan(x) * math.exp(-x)\n",
    "\n",
    "# Определение функции для вычисления несобственного интеграла\n",
    "def improper_integral(a):\n",
    "    integral, error = quad(integrand, a, math.inf)\n",
    "    return integral\n",
    "\n",
    "# Вычисление несобственного интеграла\n",
    "result, error = quad(improper_integral, 6, math.inf)\n",
    "\n",
    "print(\"Приближенное значение несобственного интеграла:\", result)\n"
   ]
  },
  {
   "cell_type": "code",
   "execution_count": 10,
   "id": "ea0fcbdb-0876-4606-8b04-feee737d3ec2",
   "metadata": {},
   "outputs": [
    {
     "name": "stdout",
     "output_type": "stream",
     "text": [
      "Подчинённая норма матрицы для нормы ||x||_1: 27\n",
      "Подчинённая норма матрицы для нормы ||x||_2: 17.828803158350794\n"
     ]
    }
   ],
   "source": [
    "import numpy as np\n",
    "\n",
    "matrix = np.array([[3, -9, 9],\n",
    "                   [-1, 8, -2],\n",
    "                   [-7, 10, 2]])\n",
    "\n",
    "# Вычисление подчинённой нормы матрицы для нормы ||x||_1\n",
    "norm_1 = np.sum(np.abs(matrix), axis=0).max()\n",
    "\n",
    "# Вычисление подчинённой нормы матрицы для нормы ||x||_2\n",
    "norm_2 = np.linalg.norm(matrix, ord=2)\n",
    "\n",
    "print(\"Подчинённая норма матрицы для нормы ||x||_1:\", norm_1)\n",
    "print(\"Подчинённая норма матрицы для нормы ||x||_2:\", norm_2)\n"
   ]
  },
  {
   "cell_type": "code",
   "execution_count": 12,
   "id": "9baedd4e-9bb9-4eeb-8af4-049a6097c3f8",
   "metadata": {},
   "outputs": [
    {
     "name": "stdout",
     "output_type": "stream",
     "text": [
      "Подчинённая норма матрицы для нормы ||x||_1: 27.0\n",
      "Подчинённая норма матрицы для нормы ||x||_2: 17.828803158350794\n"
     ]
    }
   ],
   "source": [
    "import numpy as np\n",
    "\n",
    "matrix = np.array([[3, -9, 9],\n",
    "                   [-1, 8, -2],\n",
    "                   [-7, 10, 2]])\n",
    "\n",
    "# Вычисление подчинённой нормы матрицы для нормы ||x||_1\n",
    "norm_1 = np.linalg.norm(matrix, ord=1)\n",
    "\n",
    "# Вычисление подчинённой нормы матрицы для нормы ||x||_2\n",
    "norm_2 = np.linalg.norm(matrix, ord=2)\n",
    "\n",
    "print(\"Подчинённая норма матрицы для нормы ||x||_1:\", norm_1)\n",
    "print(\"Подчинённая норма матрицы для нормы ||x||_2:\", norm_2)\n"
   ]
  },
  {
   "cell_type": "code",
   "execution_count": 13,
   "id": "71dcb874-29be-49ca-a2a1-ee123540f5e3",
   "metadata": {},
   "outputs": [
    {
     "name": "stdout",
     "output_type": "stream",
     "text": [
      "Относительная погрешность нормы решения: 0.0048402710551790915\n"
     ]
    }
   ],
   "source": [
    "import numpy as np\n",
    "\n",
    "A = np.array([[-5, 1, 5], [-6, -3, 2], [-3, -6, -3]])\n",
    "f = np.array([-8.6, 8.4, 9.5])\n",
    "δf_norm = 0.1\n",
    "\n",
    "# Решение СЛАУ\n",
    "x = np.linalg.solve(A, f)\n",
    "\n",
    "# Вычисление вектора погрешности решения\n",
    "δx = np.linalg.solve(A, δf_norm * np.ones_like(f))\n",
    "\n",
    "# Вычисление нормы погрешности решения\n",
    "δx_norm = np.linalg.norm(δx, np.inf)\n",
    "\n",
    "# Вычисление нормы вектора решения\n",
    "x_norm = np.linalg.norm(x, np.inf)\n",
    "\n",
    "# Оценка относительной погрешности нормы решения\n",
    "relative_error = δx_norm / x_norm\n",
    "\n",
    "print(\"Относительная погрешность нормы решения:\", relative_error)\n"
   ]
  },
  {
   "cell_type": "code",
   "execution_count": 14,
   "id": "c7e9fbf8-dc2a-4da2-a577-5bbe9c3159e6",
   "metadata": {},
   "outputs": [
    {
     "name": "stdout",
     "output_type": "stream",
     "text": [
      "Условие диагонального преобладания выполняется.\n",
      "Все диагональные элементы ненулевые.\n"
     ]
    }
   ],
   "source": [
    "import numpy as np\n",
    "\n",
    "A = np.array([[-18, -4,  0,  0,  0],\n",
    "              [ -3,  9, -5,  0,  0],\n",
    "              [  0, -10, 22,  8,  0],\n",
    "              [  0,  0,   5, -10,  4],\n",
    "              [  0,  0,   0,   4, 10]])\n",
    "\n",
    "# Проверка условия диагонального преобладания\n",
    "diagonal = np.abs(A.diagonal())\n",
    "sum_off_diagonal = np.sum(np.abs(A), axis=1) - diagonal\n",
    "if np.all(diagonal >= sum_off_diagonal):\n",
    "    print(\"Условие диагонального преобладания выполняется.\")\n",
    "else:\n",
    "    print(\"Условие диагонального преобладания НЕ выполняется.\")\n",
    "\n",
    "# Проверка наличия ненулевых диагональных элементов\n",
    "if np.all(diagonal != 0):\n",
    "    print(\"Все диагональные элементы ненулевые.\")\n",
    "else:\n",
    "    print(\"Есть нулевые диагональные элементы.\")\n"
   ]
  },
  {
   "cell_type": "code",
   "execution_count": 15,
   "id": "250e2f20-99c3-4c9f-b24c-384c617842c7",
   "metadata": {},
   "outputs": [
    {
     "name": "stdout",
     "output_type": "stream",
     "text": [
      "Решение системы:\n",
      "[ 0.38556572  0.26495426  0.44557823  0.10585269 -1.04234107]\n"
     ]
    }
   ],
   "source": [
    "# Решение системы методом прогонки\n",
    "f = np.array([-8, -1, 8, -3, -10])\n",
    "\n",
    "n = len(f)\n",
    "alpha = np.zeros(n)\n",
    "beta = np.zeros(n)\n",
    "x = np.zeros(n)\n",
    "\n",
    "# Прямой ход прогонки\n",
    "alpha[1] = -A[0, 1] / A[0, 0]\n",
    "beta[1] = f[0] / A[0, 0]\n",
    "\n",
    "for i in range(1, n - 1):\n",
    "    alpha[i + 1] = -A[i, i + 1] / (A[i, i] + A[i, i - 1] * alpha[i])\n",
    "    beta[i + 1] = (f[i] - A[i, i - 1] * beta[i]) / (A[i, i] + A[i, i - 1] * alpha[i])\n",
    "\n",
    "# Обратный ход прогонки\n",
    "x[n - 1] = (f[n - 1] - A[n - 1, n - 2] * beta[n - 1]) / (A[n - 1, n - 1] + A[n - 1, n - 2] * alpha[n - 1])\n",
    "\n",
    "for i in range(n - 2, -1, -1):\n",
    "    x[i] = alpha[i + 1] * x[i + 1] + beta[i + 1]\n",
    "\n",
    "# Вывод решения\n",
    "print(\"Решение системы:\")\n",
    "print(x)\n"
   ]
  },
  {
   "cell_type": "code",
   "execution_count": null,
   "id": "f486bfa2-e461-4834-bb2c-764bb8a41682",
   "metadata": {},
   "outputs": [],
   "source": []
  }
 ],
 "metadata": {
  "kernelspec": {
   "display_name": "Python 3 (ipykernel)",
   "language": "python",
   "name": "python3"
  },
  "language_info": {
   "codemirror_mode": {
    "name": "ipython",
    "version": 3
   },
   "file_extension": ".py",
   "mimetype": "text/x-python",
   "name": "python",
   "nbconvert_exporter": "python",
   "pygments_lexer": "ipython3",
   "version": "3.9.13"
  }
 },
 "nbformat": 4,
 "nbformat_minor": 5
}
